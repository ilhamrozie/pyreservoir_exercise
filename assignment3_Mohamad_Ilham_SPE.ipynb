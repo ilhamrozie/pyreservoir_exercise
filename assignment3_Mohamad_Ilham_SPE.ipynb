{
  "nbformat": 4,
  "nbformat_minor": 0,
  "metadata": {
    "colab": {
      "name": "assignment3_Mohamad_Ilham-SPE.ipynb",
      "provenance": [],
      "collapsed_sections": [],
      "include_colab_link": true
    },
    "kernelspec": {
      "name": "python3",
      "display_name": "Python 3"
    }
  },
  "cells": [
    {
      "cell_type": "markdown",
      "metadata": {
        "id": "view-in-github",
        "colab_type": "text"
      },
      "source": [
        "<a href=\"https://colab.research.google.com/github/ilhamrozie/pyreservoir_exercise/blob/main/assignment3_Mohamad_Ilham_SPE.ipynb\" target=\"_parent\"><img src=\"https://colab.research.google.com/assets/colab-badge.svg\" alt=\"Open In Colab\"/></a>"
      ]
    },
    {
      "cell_type": "markdown",
      "metadata": {
        "id": "mYF9TAAYHktD"
      },
      "source": [
        "# Assignment 3\n",
        "\n",
        "This assignment is about the application of Python for well-test analysis. You're given a CSV data (have been loaded here), and your task is to **simulate the well transient response** (not to analyze it).\n",
        "\n",
        "### Given reservoir properties\n",
        "\n",
        "* Reservoir initial pressure 3,000 psia\n",
        "* Porosity 15%\n",
        "* Total compressibility 12 microsip\n",
        "* Permeability 1,000 md\n",
        "* Radius of wellbore 4 inch (1 inch = 0.0833 ft)\n",
        "* Reservoir thickness 10 ft\n",
        "* Oil viscosity 2 cp\n",
        "* Distance from wellbore to reservoir outer boundary 8,000 ft \n",
        "* Oil FVF 1.33 RB/STB\n",
        "\n",
        "### Read instruction carefully 😊\n",
        "\n",
        "* To help you coding, refer to the section about \"Modeling a Multirate Test\" and \"Modeling a Multiple Pressure Test\" in our [session 5 notebook](https://bit.ly/python-welltest).\n",
        "\n",
        "* There are 3 columns in the data, \"Time\" (in hours), \"Rate\" (in $m^3$/hr), and \"Pressure\" (in bar). \n",
        "\n",
        "* Don't forget to convert the \"Rate\" to barrel/day and convert \"Pressure\" to psia. \n",
        "\n",
        "* Do a modeling of multirate test using the \"Time\" and \"Rate\" data\n",
        "* Do a modeling of multiple pressure test using the \"Time\" and \"Pressure\" data"
      ]
    },
    {
      "cell_type": "markdown",
      "metadata": {
        "id": "s7QQ83nojDHt"
      },
      "source": [
        ""
      ]
    },
    {
      "cell_type": "code",
      "metadata": {
        "id": "I9zHGyR8HgiM"
      },
      "source": [
        "import numpy as np\n",
        "import matplotlib.pyplot as plt\n",
        "import pandas as pd"
      ],
      "execution_count": null,
      "outputs": []
    },
    {
      "cell_type": "code",
      "metadata": {
        "colab": {
          "base_uri": "https://localhost:8080/"
        },
        "id": "FRAYMu5iJx4t",
        "outputId": "c28a6d43-1ae7-461c-bb26-c015ff4a0c9f"
      },
      "source": [
        "# cloning to github repository \n",
        "!git clone https://github.com/yohanesnuwara/pyreservoir"
      ],
      "execution_count": null,
      "outputs": [
        {
          "output_type": "stream",
          "text": [
            "Cloning into 'pyreservoir'...\n",
            "remote: Enumerating objects: 161, done.\u001b[K\n",
            "remote: Counting objects: 100% (161/161), done.\u001b[K\n",
            "remote: Compressing objects: 100% (161/161), done.\u001b[K\n",
            "remote: Total 819 (delta 85), reused 0 (delta 0), pack-reused 658\u001b[K\n",
            "Receiving objects: 100% (819/819), 24.03 MiB | 16.13 MiB/s, done.\n",
            "Resolving deltas: 100% (439/439), done.\n"
          ],
          "name": "stdout"
        }
      ]
    },
    {
      "cell_type": "code",
      "metadata": {
        "id": "AZZRzpXYLCHx"
      },
      "source": [
        "# import system\n",
        "import sys\n",
        "sys.path.append('/content/pyreservoir/welltest')\n",
        "\n",
        "# functions you will use\n",
        "from wellflo import * # import all functions\n",
        "from wellanalysis import constant_rate_drawdown_test, constant_rate_buildup_test"
      ],
      "execution_count": null,
      "outputs": []
    },
    {
      "cell_type": "code",
      "metadata": {
        "id": "QaEcq2baJ5Nx"
      },
      "source": [
        "# filepath of the data\n",
        "filepath = '/content/pyreservoir/data/welltest/Data_Well_Transient_Modeling.csv'"
      ],
      "execution_count": null,
      "outputs": []
    },
    {
      "cell_type": "markdown",
      "metadata": {
        "id": "rbmwC1vxQqrz"
      },
      "source": [
        "## Input reservoir properties"
      ]
    },
    {
      "cell_type": "code",
      "metadata": {
        "colab": {
          "base_uri": "https://localhost:8080/",
          "height": 402
        },
        "id": "s2zC9MZRlWsO",
        "outputId": "4b942382-08a5-484a-cc9e-4f57b871fe80"
      },
      "source": [
        "#read csv data, change units on rate and pressure, drop the old rate and pressure columns\n",
        "df = pd.read_csv(filepath)\n",
        "df['rate (bpd)'] = df['rate (m3/hr)'] * 150.955 # 1m3/d = 6.29 bpd / 1m3/hr = 150.955 bpd\n",
        "df['pressure (psia)'] = df['pressure (bar)'] * 14.5038 # 1 bar = 14.5038 psia\n",
        "df = df.drop(df.columns[[1,2]], axis=1)\n",
        "df"
      ],
      "execution_count": null,
      "outputs": [
        {
          "output_type": "execute_result",
          "data": {
            "text/html": [
              "<div>\n",
              "<style scoped>\n",
              "    .dataframe tbody tr th:only-of-type {\n",
              "        vertical-align: middle;\n",
              "    }\n",
              "\n",
              "    .dataframe tbody tr th {\n",
              "        vertical-align: top;\n",
              "    }\n",
              "\n",
              "    .dataframe thead th {\n",
              "        text-align: right;\n",
              "    }\n",
              "</style>\n",
              "<table border=\"1\" class=\"dataframe\">\n",
              "  <thead>\n",
              "    <tr style=\"text-align: right;\">\n",
              "      <th></th>\n",
              "      <th>time (hr)</th>\n",
              "      <th>rate (bpd)</th>\n",
              "      <th>pressure (psia)</th>\n",
              "    </tr>\n",
              "  </thead>\n",
              "  <tbody>\n",
              "    <tr>\n",
              "      <th>0</th>\n",
              "      <td>0</td>\n",
              "      <td>483.056</td>\n",
              "      <td>1999.972493</td>\n",
              "    </tr>\n",
              "    <tr>\n",
              "      <th>1</th>\n",
              "      <td>10</td>\n",
              "      <td>483.056</td>\n",
              "      <td>1999.972493</td>\n",
              "    </tr>\n",
              "    <tr>\n",
              "      <th>2</th>\n",
              "      <td>20</td>\n",
              "      <td>483.056</td>\n",
              "      <td>1999.972493</td>\n",
              "    </tr>\n",
              "    <tr>\n",
              "      <th>3</th>\n",
              "      <td>30</td>\n",
              "      <td>483.056</td>\n",
              "      <td>1999.972493</td>\n",
              "    </tr>\n",
              "    <tr>\n",
              "      <th>4</th>\n",
              "      <td>40</td>\n",
              "      <td>483.056</td>\n",
              "      <td>1999.972493</td>\n",
              "    </tr>\n",
              "    <tr>\n",
              "      <th>...</th>\n",
              "      <td>...</td>\n",
              "      <td>...</td>\n",
              "      <td>...</td>\n",
              "    </tr>\n",
              "    <tr>\n",
              "      <th>94</th>\n",
              "      <td>940</td>\n",
              "      <td>150.955</td>\n",
              "      <td>2024.977045</td>\n",
              "    </tr>\n",
              "    <tr>\n",
              "      <th>95</th>\n",
              "      <td>950</td>\n",
              "      <td>150.955</td>\n",
              "      <td>2024.977045</td>\n",
              "    </tr>\n",
              "    <tr>\n",
              "      <th>96</th>\n",
              "      <td>960</td>\n",
              "      <td>150.955</td>\n",
              "      <td>2024.977045</td>\n",
              "    </tr>\n",
              "    <tr>\n",
              "      <th>97</th>\n",
              "      <td>970</td>\n",
              "      <td>150.955</td>\n",
              "      <td>2024.977045</td>\n",
              "    </tr>\n",
              "    <tr>\n",
              "      <th>98</th>\n",
              "      <td>980</td>\n",
              "      <td>150.955</td>\n",
              "      <td>2024.977045</td>\n",
              "    </tr>\n",
              "  </tbody>\n",
              "</table>\n",
              "<p>99 rows × 3 columns</p>\n",
              "</div>"
            ],
            "text/plain": [
              "    time (hr)  rate (bpd)  pressure (psia)\n",
              "0           0     483.056      1999.972493\n",
              "1          10     483.056      1999.972493\n",
              "2          20     483.056      1999.972493\n",
              "3          30     483.056      1999.972493\n",
              "4          40     483.056      1999.972493\n",
              "..        ...         ...              ...\n",
              "94        940     150.955      2024.977045\n",
              "95        950     150.955      2024.977045\n",
              "96        960     150.955      2024.977045\n",
              "97        970     150.955      2024.977045\n",
              "98        980     150.955      2024.977045\n",
              "\n",
              "[99 rows x 3 columns]"
            ]
          },
          "metadata": {
            "tags": []
          },
          "execution_count": 10
        }
      ]
    },
    {
      "cell_type": "markdown",
      "metadata": {
        "id": "Fw5gUhIAQUp1"
      },
      "source": [
        "## Modeling the Multirate Test (use timestep 0.1 hour)"
      ]
    },
    {
      "cell_type": "code",
      "metadata": {
        "id": "c-38ojccQtJo"
      },
      "source": [
        "# Input reservoir properties\n",
        "p_initial = 3000 #psia\n",
        "poro = 0.15\n",
        "ct = 12E-6 #microsip\n",
        "perm = 1000 #md\n",
        "rw = 4*0.0833 #ft\n",
        "h = 10 #ft\n",
        "mu = 2 #cp\n",
        "re = 8000 #Distance from wellbore to reservoir outer boundary \n",
        "Bo = 1.33 #RB/STB\n"
      ],
      "execution_count": null,
      "outputs": []
    },
    {
      "cell_type": "code",
      "metadata": {
        "id": "I25OTQlXQXbG",
        "colab": {
          "base_uri": "https://localhost:8080/",
          "height": 364
        },
        "outputId": "2c3d0934-c2af-49b3-f05f-59563eb66e29"
      },
      "source": [
        "# Define t and q from data\n",
        "\n",
        "t_step = 0.1\n",
        "t = df['time (hr)'].to_numpy()\n",
        "q = df['rate (bpd)'].to_numpy()\n",
        "\n",
        "#simulate multirate test\n",
        "simulate_multirate_test(p_initial, t_step, t, q, re, rw, perm, poro, mu, ct, Bo, h)\n"
      ],
      "execution_count": null,
      "outputs": [
        {
          "output_type": "display_data",
          "data": {
            "image/png": "[encoded data removed]",
            "text/plain": [
              "<Figure size 1224x360 with 2 Axes>"
            ]
          },
          "metadata": {
            "tags": [],
            "needs_background": "light"
          }
        }
      ]
    },
    {
      "cell_type": "markdown",
      "metadata": {
        "id": "iF8bPd8BQXr8"
      },
      "source": [
        "## Modeling the Multiple Pressure Test (use timestep 0.1 hour)# "
      ]
    },
    {
      "cell_type": "code",
      "metadata": {
        "id": "1Yy6QH-OQZ_g",
        "colab": {
          "base_uri": "https://localhost:8080/",
          "height": 364
        },
        "outputId": "b745405b-f275-45f3-b0b1-9e12a62d1cca"
      },
      "source": [
        "# Define t and p from data\n",
        "t = df['time (hr)'].to_numpy()\n",
        "p = df['pressure (psia)'].to_numpy()\n",
        "\n",
        "#simulate multipressure test\n",
        "simulate_multipressure_test(p_initial, t_step, t, p, re, rw, perm, poro, mu, ct, Bo, h)\n"
      ],
      "execution_count": null,
      "outputs": [
        {
          "output_type": "display_data",
          "data": {
            "image/png": "[encoded data removed]",
            "text/plain": [
              "<Figure size 1224x360 with 2 Axes>"
            ]
          },
          "metadata": {
            "tags": [],
            "needs_background": "light"
          }
        }
      ]
    }
  ]
}